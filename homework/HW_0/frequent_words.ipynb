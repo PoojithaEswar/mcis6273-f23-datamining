{
 "cells": [
  {
   "cell_type": "code",
   "execution_count": 1,
   "metadata": {},
   "outputs": [
    {
     "name": "stdout",
     "output_type": "stream",
     "text": [
      "Defaulting to user installation because normal site-packages is not writeable\n",
      "Requirement already satisfied: pandas in /home/sensei/.local/lib/python3.11/site-packages (2.0.3)\n",
      "Requirement already satisfied: python-dateutil>=2.8.2 in /home/sensei/.local/lib/python3.11/site-packages (from pandas) (2.8.2)\n",
      "Requirement already satisfied: pytz>=2020.1 in /home/sensei/.local/lib/python3.11/site-packages (from pandas) (2023.3)\n",
      "Requirement already satisfied: tzdata>=2022.1 in /home/sensei/.local/lib/python3.11/site-packages (from pandas) (2023.3)\n",
      "Requirement already satisfied: numpy>=1.21.0 in /home/sensei/.local/lib/python3.11/site-packages (from pandas) (1.25.1)\n",
      "Requirement already satisfied: six>=1.5 in /usr/lib/python3/dist-packages (from python-dateutil>=2.8.2->pandas) (1.16.0)\n"
     ]
    }
   ],
   "source": [
    "! pip install pandas"
   ]
  },
  {
   "cell_type": "code",
   "execution_count": 2,
   "metadata": {},
   "outputs": [],
   "source": [
    "import pandas as pd\n",
    "\n",
    "# Load the CSV files into dfs\n",
    "all_words_df = pd.read_csv('all_words.csv')\n",
    "all_uppercase_words_df = pd.read_csv('all_uppercase_words.csv')"
   ]
  },
  {
   "cell_type": "code",
   "execution_count": 3,
   "metadata": {},
   "outputs": [],
   "source": [
    "# Sort dfs by frequency in descending order\n",
    "all_words_df = all_words_df.sort_values(by='Frequency', ascending=False)\n",
    "all_uppercase_words_df = all_uppercase_words_df.sort_values(by='Frequency', ascending=False)\n",
    "\n",
    "# Extract 5 most frequent words from each df\n",
    "top_5_words_all = all_words_df.head(5)\n",
    "top_5_words_uppercase = all_uppercase_words_df.head(5)"
   ]
  },
  {
   "cell_type": "code",
   "execution_count": 4,
   "metadata": {},
   "outputs": [
    {
     "name": "stdout",
     "output_type": "stream",
     "text": [
      "5 Most Frequent Words in 'all_words.csv':\n",
      "     Word  Frequency\n",
      "3266  the       2504\n",
      "2408   of       1859\n",
      "2049   is       1316\n",
      "3307   to       1232\n",
      "621   and        986\n",
      "\n",
      "5 Most Frequent Words in 'all_uppercase_words.csv':\n",
      "       Word  Frequency\n",
      "48        I        151\n",
      "0         A         34\n",
      "10        B         21\n",
      "80       OF         20\n",
      "18  CHAPTER         15\n"
     ]
    }
   ],
   "source": [
    "# Display results\n",
    "print(\"5 Most Frequent Words in 'all_words.csv':\")\n",
    "print(top_5_words_all)\n",
    "\n",
    "print(\"\\n5 Most Frequent Words in 'all_uppercase_words.csv':\")\n",
    "print(top_5_words_uppercase)\n"
   ]
  }
 ],
 "metadata": {
  "kernelspec": {
   "display_name": "Python 3 (ipykernel)",
   "language": "python",
   "name": "python3"
  },
  "language_info": {
   "codemirror_mode": {
    "name": "ipython",
    "version": 3
   },
   "file_extension": ".py",
   "mimetype": "text/x-python",
   "name": "python",
   "nbconvert_exporter": "python",
   "pygments_lexer": "ipython3",
   "version": "3.11.4"
  },
  "orig_nbformat": 4
 },
 "nbformat": 4,
 "nbformat_minor": 2
}
