{
 "cells": [
  {
   "cell_type": "code",
   "execution_count": 1,
   "metadata": {},
   "outputs": [
    {
     "name": "stdout",
     "output_type": "stream",
     "text": [
      "Defaulting to user installation because normal site-packages is not writeable\n",
      "Requirement already satisfied: nltk in /home/sensei/.local/lib/python3.11/site-packages (3.8.1)\n",
      "\u001b[31mERROR: Could not find a version that satisfies the requirement string (from versions: none)\u001b[0m\u001b[31m\n",
      "\u001b[0m\u001b[31mERROR: No matching distribution found for string\u001b[0m\u001b[31m\n",
      "\u001b[0m"
     ]
    }
   ],
   "source": [
    "! pip install nltk csv collections"
   ]
  },
  {
   "cell_type": "code",
   "execution_count": 2,
   "metadata": {},
   "outputs": [
    {
     "name": "stderr",
     "output_type": "stream",
     "text": [
      "[nltk_data] Error loading punkt: <urlopen error [Errno -2] Name or\n",
      "[nltk_data]     service not known>\n"
     ]
    },
    {
     "data": {
      "text/plain": [
       "False"
      ]
     },
     "execution_count": 2,
     "metadata": {},
     "output_type": "execute_result"
    }
   ],
   "source": [
    "# import libraries and download NLTK data\n",
    "\n",
    "import nltk\n",
    "import string\n",
    "import csv\n",
    "from collections import Counter\n",
    "\n",
    "nltk.download('punkt')"
   ]
  },
  {
   "cell_type": "code",
   "execution_count": 3,
   "metadata": {},
   "outputs": [],
   "source": [
    "#  tokenize and clean the text\n",
    "def tokenize_and_clean_text(text):\n",
    "    words = nltk.word_tokenize(text.lower())\n",
    "    words = [word.strip(string.punctuation) for word in words]\n",
    "    words = [word for word in words if word]\n",
    "\n",
    "    return words\n"
   ]
  },
  {
   "cell_type": "code",
   "execution_count": 4,
   "metadata": {},
   "outputs": [],
   "source": [
    "# Read  text file\n",
    "file_path = \"Project-Gutenberg-epub-5827-pg5827.txt\"\n",
    "with open(file_path, 'r', encoding='utf-8') as file:\n",
    "    text = file.read()\n",
    "\n",
    "tokenized_text = tokenize_and_clean_text(text)\n",
    "\n",
    "# Count the frequency of each word\n",
    "word_counts = Counter(tokenized_text)\n",
    "\n",
    "# Sort the word frequencies alphabetically\n",
    "sorted_word_counts = sorted(word_counts.items(), key=lambda x: x[0])\n"
   ]
  },
  {
   "cell_type": "code",
   "execution_count": 5,
   "metadata": {},
   "outputs": [
    {
     "name": "stdout",
     "output_type": "stream",
     "text": [
      "Word frequencies have been written to 'all_words.csv' in alphabetical order.\n"
     ]
    }
   ],
   "source": [
    "# Write the word frequencies to a CSV file\n",
    "with open('all_words.csv', 'w', newline='') as csvfile:\n",
    "    csv_writer = csv.writer(csvfile)\n",
    "    csv_writer.writerow(['Word', 'Frequency'])\n",
    "    \n",
    "    # Write words and their frequencies to the CSV file in alphabetical order\n",
    "    for word, count in sorted_word_counts:\n",
    "        csv_writer.writerow([word, count])\n",
    "\n",
    "print(\"Word frequencies have been written to 'all_words.csv' in alphabetical order.\")\n"
   ]
  }
 ],
 "metadata": {
  "kernelspec": {
   "display_name": "Python 3 (ipykernel)",
   "language": "python",
   "name": "python3"
  },
  "language_info": {
   "codemirror_mode": {
    "name": "ipython",
    "version": 3
   },
   "file_extension": ".py",
   "mimetype": "text/x-python",
   "name": "python",
   "nbconvert_exporter": "python",
   "pygments_lexer": "ipython3",
   "version": "3.11.4"
  },
  "orig_nbformat": 4
 },
 "nbformat": 4,
 "nbformat_minor": 2
}
