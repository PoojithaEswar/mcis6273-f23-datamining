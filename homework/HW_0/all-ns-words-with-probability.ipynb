{
 "cells": [
  {
   "cell_type": "code",
   "execution_count": 1,
   "metadata": {},
   "outputs": [],
   "source": [
    "import csv\n",
    "\n",
    "# Read file\n",
    "with open('all_ns_words.csv', 'r') as csvfile:\n",
    "    reader = csv.DictReader(csvfile)\n",
    "    rows = list(reader)\n",
    "\n",
    "# Calculate sum of frequencies of all non-stopwords\n",
    "total_non_stopword_frequency = sum(int(row['Frequency']) for row in rows)\n"
   ]
  },
  {
   "cell_type": "code",
   "execution_count": 2,
   "metadata": {},
   "outputs": [],
   "source": [
    "# Add a new column 'Probability' to the existing data\n",
    "for row in rows:\n",
    "    word_frequency = int(row['Frequency'])\n",
    "    probability = word_frequency / total_non_stopword_frequency\n",
    "    row['Probability'] = f'{probability:.5f}'\n"
   ]
  },
  {
   "cell_type": "code",
   "execution_count": 3,
   "metadata": {},
   "outputs": [
    {
     "name": "stdout",
     "output_type": "stream",
     "text": [
      "Probability values have been added and saved to 'all_ns_words_with_probability.csv'.\n"
     ]
    }
   ],
   "source": [
    "# Write the updated data to a new CSV file\n",
    "output_filename = 'all_ns_words_with_probability.csv'\n",
    "with open(output_filename, 'w', newline='') as csvfile:\n",
    "    fieldnames = ['Word', 'Frequency', 'Probability']\n",
    "    writer = csv.DictWriter(csvfile, fieldnames=fieldnames)\n",
    "    writer.writeheader()\n",
    "\n",
    "    for row in rows:\n",
    "        writer.writerow(row)\n",
    "\n",
    "print(f\"Probability values have been added and saved to '{output_filename}'.\")\n"
   ]
  }
 ],
 "metadata": {
  "kernelspec": {
   "display_name": "Python 3 (ipykernel)",
   "language": "python",
   "name": "python3"
  },
  "language_info": {
   "codemirror_mode": {
    "name": "ipython",
    "version": 3
   },
   "file_extension": ".py",
   "mimetype": "text/x-python",
   "name": "python",
   "nbconvert_exporter": "python",
   "pygments_lexer": "ipython3",
   "version": "3.11.4"
  },
  "orig_nbformat": 4
 },
 "nbformat": 4,
 "nbformat_minor": 2
}
