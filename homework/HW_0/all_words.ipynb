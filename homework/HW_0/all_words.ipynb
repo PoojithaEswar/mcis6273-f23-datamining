{
 "cells": [
  {
   "cell_type": "code",
   "execution_count": 6,
   "metadata": {},
   "outputs": [
    {
     "name": "stdout",
     "output_type": "stream",
     "text": [
      "Defaulting to user installation because normal site-packages is not writeable\n",
      "Requirement already satisfied: nltk in /home/sensei/.local/lib/python3.11/site-packages (3.8.1)\n",
      "\u001b[31mERROR: Could not find a version that satisfies the requirement csv (from versions: none)\u001b[0m\u001b[31m\n",
      "\u001b[0m\u001b[31mERROR: No matching distribution found for csv\u001b[0m\u001b[31m\n",
      "\u001b[0m"
     ]
    }
   ],
   "source": [
    "! pip install nltk"
   ]
  },
  {
   "cell_type": "code",
   "execution_count": 7,
   "metadata": {},
   "outputs": [
    {
     "name": "stderr",
     "output_type": "stream",
     "text": [
      "[nltk_data] Downloading package punkt to /home/sensei/nltk_data...\n",
      "[nltk_data]   Package punkt is already up-to-date!\n"
     ]
    },
    {
     "data": {
      "text/plain": [
       "True"
      ]
     },
     "execution_count": 7,
     "metadata": {},
     "output_type": "execute_result"
    }
   ],
   "source": [
    "# import libraries and download NLTK data\n",
    "\n",
    "import nltk\n",
    "import string\n",
    "import csv\n",
    "from collections import Counter\n",
    "\n",
    "nltk.download('punkt')"
   ]
  },
  {
   "cell_type": "code",
   "execution_count": 8,
   "metadata": {},
   "outputs": [],
   "source": [
    "#  tokenize and clean the text\n",
    "def tokenize_and_clean_text(text):\n",
    "    words = nltk.word_tokenize(text)\n",
    "    words = [word.strip(string.punctuation) for word in words if word.isalpha()] \n",
    "    words = [word for word in words if word and not word[0].isdigit()]\n",
    "\n",
    "    return words\n"
   ]
  },
  {
   "cell_type": "code",
   "execution_count": 9,
   "metadata": {},
   "outputs": [],
   "source": [
    "# Read the text file from the URL\n",
    "import urllib.request\n",
    "url = \"https://www.gutenberg.org/cache/epub/5827/pg5827.txt\"\n",
    "response = urllib.request.urlopen(url)\n",
    "text = response.read().decode('utf-8')\n",
    "\n",
    "tokenized_text = tokenize_and_clean_text(text)\n",
    "\n",
    "# Count the frequency of each word\n",
    "word_counts = Counter(tokenized_text)\n",
    "\n",
    "# Sort the word frequencies alphabetically\n",
    "sorted_word_counts = sorted(word_counts.items(), key=lambda x: x[0])\n"
   ]
  },
  {
   "cell_type": "code",
   "execution_count": 10,
   "metadata": {},
   "outputs": [
    {
     "name": "stdout",
     "output_type": "stream",
     "text": [
      "Word frequencies have been written to 'all_words.csv' in alphabetical order.\n"
     ]
    }
   ],
   "source": [
    "# Write the word frequencies in alphabetical order to a CSV file\n",
    "with open('all_words.csv', 'w', newline='') as csvfile:\n",
    "    csv_writer = csv.writer(csvfile)\n",
    "    csv_writer.writerow(['Word', 'Frequency'])\n",
    "    \n",
    "    for word, count in sorted_word_counts:\n",
    "        csv_writer.writerow([word, count])\n",
    "\n",
    "print(\"Word frequencies have been written to 'all_words.csv' in alphabetical order.\")\n"
   ]
  }
 ],
 "metadata": {
  "kernelspec": {
   "display_name": "Python 3 (ipykernel)",
   "language": "python",
   "name": "python3"
  },
  "language_info": {
   "codemirror_mode": {
    "name": "ipython",
    "version": 3
   },
   "file_extension": ".py",
   "mimetype": "text/x-python",
   "name": "python",
   "nbconvert_exporter": "python",
   "pygments_lexer": "ipython3",
   "version": "3.11.4"
  },
  "orig_nbformat": 4
 },
 "nbformat": 4,
 "nbformat_minor": 2
}
