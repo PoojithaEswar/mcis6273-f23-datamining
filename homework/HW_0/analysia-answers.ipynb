{
 "cells": [
  {
   "cell_type": "code",
   "execution_count": 8,
   "metadata": {},
   "outputs": [],
   "source": [
    "import csv\n",
    "\n",
    "# Load file\n",
    "filename = 'all_ns_words_with_probability.csv'\n",
    "\n",
    "# variables\n",
    "unique_non_stopwords = set()\n",
    "least_probable_words = []\n",
    "min_probability = 1.0 "
   ]
  },
  {
   "cell_type": "code",
   "execution_count": 9,
   "metadata": {},
   "outputs": [],
   "source": [
    "# Read data and extract words and probabilities\n",
    "non_stopwords_data = []\n",
    "with open(filename, 'r') as csvfile:\n",
    "    reader = csv.DictReader(csvfile)\n",
    "    for row in reader:\n",
    "        non_stopwords_data.append(row)\n",
    "\n",
    "non_stopwords = [{'Word': row['Word'], 'Probability': float(row['Probability'])} for row in non_stopwords_data]"
   ]
  },
  {
   "cell_type": "code",
   "execution_count": 10,
   "metadata": {},
   "outputs": [],
   "source": [
    "# Calculate No. of unique non-stop words and find the least probable word(s)\n",
    "for row in non_stopwords:\n",
    "    word = row['Word']\n",
    "    probability = row['Probability']\n",
    "    \n",
    "    unique_non_stopwords.add(word)\n",
    "    \n",
    "    if probability < min_probability:\n",
    "        least_probable_words = [word]\n",
    "        min_probability = probability\n",
    "    elif probability == min_probability:\n",
    "        least_probable_words.append(word)\n",
    "        \n",
    "\n",
    "# Save the least probable words to CSV\n",
    "with open('least_probable_words.csv', 'w', newline='') as csvfile:\n",
    "    csv_writer = csv.writer(csvfile)\n",
    "    csv_writer.writerow(['Least Probable Word', 'Probability'])\n",
    "    \n",
    "    for word in least_probable_words:\n",
    "        probability = min_probability\n",
    "        csv_writer.writerow([word, probability])\n"
   ]
  },
  {
   "cell_type": "code",
   "execution_count": 11,
   "metadata": {},
   "outputs": [],
   "source": [
    "# Calculate sum of pblts for each sentence\n",
    "sentence_a = \"If a belief is true, it can be deduced it is universal.\"\n",
    "sentence_b = \"Criticism of knowledge is counter to scientific results.\"\n",
    "\n",
    "def calculate_sentence_probability(sentence, non_stopwords):\n",
    "    words = sentence.split()\n",
    "    sentence_probability = sum([float(row['Probability']) for row in non_stopwords if row['Word'] in words])\n",
    "    return sentence_probability\n",
    "\n",
    "probability_a = calculate_sentence_probability(sentence_a, non_stopwords)\n",
    "probability_b = calculate_sentence_probability(sentence_b, non_stopwords)"
   ]
  },
  {
   "cell_type": "code",
   "execution_count": 12,
   "metadata": {},
   "outputs": [
    {
     "name": "stdout",
     "output_type": "stream",
     "text": [
      "1. How many unique non-stop words are in the text?\n",
      "2853\n",
      "\n",
      "2. Which is the least probable word? (if there is a tie, please state the tie words)\n",
      "Least Probable Word(s): ACQUAINTANCE, ACTUAL, AGREEMENT, APPEARANCE, Acquaintance, Additional, Author, Awareness, BIBLIOGRAPHICAL, Bannerman, Books, Bradley, British, Broadly, CONSEQUENTIAL, CONTRACT, Campbell, Cantor, City, Compliance, Considered, Contact, Continental, Contributions, Copyright, Creating, DAMAGE, DESCRIPTION, DIRECT, DISCLAIMER, DISTRIBUTE, DISTRIBUTOR, DONATIONS, December, Defect, Defects, Degrees, Domestic, EIN, ERROR, EXISTENCE, EXPRESS, Earth, East, Email, England, English, Euclid, Europe, FALSEHOOD, FITNESS, FOUNDATION, Food, Future, Georg, George, Gilbert, Gordon, Granted, Greeks, Hart, Henry, Human, IDEALISM, III, IMPLIED, INCIDENTAL, INCLUDING, INDEMNITY, INDIRECT, INDUCTION, INTUITIVE, IRS, Idealists, Ides, Immanuel, Instances, Internal, International, Judgements, Judging, June, Kantian, Keener, Keynes, Königsberg, LIABILITY, LIABLE, LIMITS, Lake, Language, Latin, Leaving, Library, Light, Locke, MERCHANTABILITY, March, Memories, Michael, Mission, Mississippi, Moore, Murray, NATURE, NEGLIGENCE, NOTE, NOTICE, Neglecting, Newton, North, OPINION, OWNER, Opposition, PARAGRAPH, PGLAF, PHILOSOPHICAL, POSSIBILITY, PREFACE, PRINCIPLES, PROBABLE, PUNITIVE, PURPOSE, Philosophical, Principles, Produced, Pronouns, Prussia, READ, REALITY, REFUND, REMEDIES, REPLACEMENT, Rationalists, Redistributing, Redistribution, Reflection, Refund, Release, Replacement, Returning, Revenue, Revolution, Roman, SEND, STRICT, Salt, Sceptics, Sections, Service, Sir, Space, Speaking, Special, Starting, Struldbugs, Swift, TRADEMARK, TRUTH, Times, Title, Truth, Truths, UT, Uneducated, Universals, Universe, University, Updated, VIII, Volunteers, War, Waterloo, West, Whitehead, XII, XIII, XIV, XV, York, abide, abstain, abstracted, abstractions, abstractly, absurdities, acceptance, accepts, accessed, accessible, accident, accidental, accidents, accompanied, accord, accounting, accurate, accusative, achieve, achieves, acquiesce, acquiescence, acquisition, activity, acute, adapts, adding, address, addresses, adduced, adequacy, adequately, admirable, admitting, admixture, advances, adversaries, advocate, advocates, advocating, aesthetic, aether, affairs, affections, affirmative, afforded, agent, agreeably, aim, aimed, akin, alien, allowed, allowing, alteration, altered, alternate, alternatives, alters, ambitious, amend, amply, analogous, analyse, analyses, anatomist, animal, announcement, anticipate, anticipating, anticipation, appearances, appearing, appetite, application, applied, apportions, apprehends, approaches, approaching, arduous, argues, arguing, arose, arrange, array, arrived, arriving, arrogant, artificial, ascertained, assassinated, assented, assigns, assimilate, assist, assumptions, assurance, assure, assured, astray, ate, atoms, attached, attack, attain, attainable, attested, attitude, attributing, avoided, avoiding, babies, baldness, banging, bar, barrier, bed, beg, begging, beginner, begs, begun, behave, behaviour, beleagured, bell, bewildering, bid, bigger, binary, binds, blank, bolder, bone, bored, borne, bounds, brick, briefest, brighter, brightness, broken, build, builder, buildings, calculate, calculated, calm, camps, candid, card, careful, carelessly, carry, catalogue, catalogued, catching, categories, causing, centuries, century, chance, changeable, changed, charitable, charities, checks, child, chimaera, choice, chosen, citizens, citizenship, city, clash, clashes, clean, clock, closed, closer, closes, clouds, coalesce, codes, cohere, coin, coins, collective, colony, combination, combine, coming, commercial, commit, communicate, community, comparative, compare, compared, comparing, competent, compilation, complement, completed, compressed, conceivable, conceivably, concentrate, concluded, concourse, condemns, conduct, confess, confine, confining, confirmation, confirmed, confirms, conflict, conformity, confused, confusing, confusions, confute, conjecture, connecting, connects, consent, consequences, consisted, constituting, construct, constructed, constructing, constructions, constructive, contemplated, contemplating, contemplative, contemptuously, contended, contention, contentions, continued, continuing, continuous, continuously, contradict, contradictory, contrast, contributed, contribution, contributions, convenient, converged, conversation, convert, convincing, cool, corporation, correlative, corresponded, corrupt, counterparts, countless, countries, cranny, creates, creation, criterion, criticisms, criticized, crudely, current, custom, customary, cut, cutting, damage, damaged, danger, dates, debate, debated, deceitful, deceive, deceptive, decides, deciding, decision, declared, deducing, deductible, deeds, deeply, defeated, defensible, defined, definiteness, definitions, deletions, deliberate, delightful, delusion, demanding, demonstrably, demonstrative, demonstratively, denies, dentist, dependence, depending, descend, describes, describing, descriptive, desert, deserts, deserves, deserving, designate, desirability, desirable, desiring, desirous, destroyed, destroys, destructive, detach, determines, development, developments, diary, dictionary, die, diminish, diminished, diminishes, dined, directions, directs, disappear, disappoint, disappointing, disclaim, disclaimers, discontinue, discuss, disease, disengaged, disk, dismiss, dispassionately, display, displayed, disputable, disputants, dissociated, distinctly, distinguishes, distort, distorts, diverge, divest, divide, divided, divisibility, dogmas, dogmatic, dogmatism, domestic, dominion, donation, donors, doubtless, downloading, drawn, dried, drifted, drive, drives, duly, easiest, eclipse, edition, educated, educational, effected, elapse, elapsed, elect, elected, electric, elementary, elements, elucidation, email, embark, emerged, emerges, emitted, emitting, emphasized, emphatically, employee, employees, employs, engagement, engendered, enlarged, enlarges, enormously, enrich, ensuring, entails, entangled, enter, entertaining, enumerated, enumeration, enunciated, equal, equivocation, ergo, estimated, eternal, eternally, everyday, exact, examines, exceedingly, excluding, exclusion, exemplify, existent, expend, expense, explicitly, explored, exploring, exponents, exporting, expressions, extend, extends, extensive, extrinsic, fabric, facility, faculty, failing, fainter, faintness, fallacies, fallacy, fallible, falls, falsified, family, fancy, fast, fatal, favouritism, fear, features, fed, feeds, fetters, feverish, file, files, financial, fine, fixed, flash, foes, foolish, football, force, forces, forget, forgetting, forgo, forgotten, forks, formal, formally, formats, fortress, fortuitous, fortune, forwards, fostered, fourth, fragment, fragments, framework, frightened, fulfilment, fulfils, gain, garrison, generality, geography, geology, glance, glasses, globe, goals, goodwill, gradations, grain, grapple, grasp, gratefully, gratuitous, gravely, greens, groundless, grow, growing, guarded, guide, habits, habitual, habitually, halves, handbooks, happiness, hardnesses, harm, harmless, harmony, hates, hatred, hatreds, heartbeats, heaven, heavens, helpful, heretofore, hesitatingly, hides, hills, hinder, historian, historic, historically, honour, hoofs, hoped, hopeless, horrors, host, hot, hundreds, hypertext, identification, ignorance, ignorant, illumination, illusoriness, illusory, illustrated, illustrations, immutable, impaired, impairs, impartial, impartially, impenetrable, impersonal, impose, impression, imprisoned, inaccurate, inclination, includes, incompatible, inconsistencies, inconsistency, increase, increasing, incredulous, indefinitely, indemnify, independence, indestructible, indicating, inevitable, inexplicable, infallibility, infancy, infected, inferring, infinitesimal, inflected, inflections, influence, infringed, infringement, inhabitants, inhabited, inherent, innate, innocent, inoperative, inquire, inquired, insistent, insoluble, inspiration, instants, instincts, instrument, insubstantial, intelligent, intended, intently, interact, interferes, intermediary, internal, interpret, interpreted, interrelation, interrupted, introduce, intuitively, invalidity, invented, inventing, inventions, investigations, invites, irrefutable, isolation, joint, justly, killed, knits, knives, knowable, lapse, larger, launched, lay, learnt, leaving, legally, legitimately, level, liberating, liberation, liberator, liberty, library, licensed, lies, limitations, limiting, linked, lips, live, lived, locations, logician, looked, loose, loosen, lot, loud, lowest, luminously, lying, magnifies, maintain, maintaining, majority, manager, marching, marriage, match, maximum, meanings, melt, memories, mention, mercilessly, merest, merges, merits, metaphorically, midst, miles, mineralogist, minor, miracle, misery, misleadingness, mistake, mistakes, misunderstanding, mitigate, mode, modification, modifications, modify, momentary, month, mortality, moved, movements, multiplication, multiplicity, musical, mutually, mystic, mystical, mysticism, nation, native, nearest, nearness, negligible, network, newness, news, newsletter, newspapers, noises, nominative, nonproprietary, nook, noteworthy, noticing, notifies, notions, nouns, novelist, nowadays, nowhen, numerous, objectionable, objective, oblivious, obscure, observe, observing, obsolete, obstacle, obstacles, obstinate, obtuse, occupant, occupying, odd, office, oftener, omission, oneself, opaque, operated, operative, opportunities, opportunity, opposites, orator, orderly, ordnance, organized, organizing, organs, origin, originally, originator, outcome, outdated, outlines, outward, oval, owed, painfully, palpable, papers, paperwork, paradoxes, paradoxical, partially, party, passage, passes, pausing, pay, peace, peculiar, peculiarly, perfection, performances, periodic, permanence, perpetual, persons, perspective, persuaded, persuading, perturbed, phantasmagoria, phenomenon, philosophize, physics, physiological, physiology, pink, placing, plane, planet, plausibility, playing, poisonous, positively, possess, possessed, possession, poverty, powerlessness, powers, practice, practised, precisely, preferable, preparing, prescribe, presence, preservation, pressing, pressure, pressures, presumption, presupposed, pretty, prevent, primitive, proceeded, proceeds, processes, processing, producing, production, products, profess, profit, profitable, profited, profits, profoundest, progress, progressively, prohibition, prolonged, promote, promotion, pronounce, pronouns, proofread, proposed, proprietary, provision, provisionally, provisions, prudent, psychologically, psychology, pursue, pushed, puzzling, quibbling, range, ranging, rapping, rationalist, rationality, readable, readers, realization, realized, reappear, receiving, recognizes, recombines, reconcile, reconstructed, recorded, redistribute, redistributing, redistribution, reduce, reducible, refined, reflecting, refutable, regress, regulating, rejection, relate, relational, reliable, religion, remarkably, remarks, remote, remoter, removal, removes, renamed, renounce, repeat, repeatedly, repetition, replaced, reported, reports, represent, representations, representative, representing, request, resemblances, residue, restate, resting, restricted, retain, retained, retort, returns, revealed, reversed, revert, review, rigid, rival, rob, robbing, roof, rooted, rotate, rotating, roundabout, rounded, rouse, roused, royalty, runs, samples, satisfaction, satisfying, save, scaffold, sceptic, sceptical, schoolmen, sea, searches, secures, seldom, sending, separated, sequel, serve, service, sets, seventeenth, severe, shadow, sharing, sharp, sheets, shiny, shock, short, shortly, simplify, situated, skeleton, sleeping, slowly, smelling, smells, sober, society, sold, solicitation, solid, solve, solves, solving, sophistry, soul, sour, south, specially, species, spectacles, speculative, speech, spoke, spoons, sprang, staff, stages, started, starting, starts, step, stone, stored, straightforward, strangeness, stranger, strangest, strike, strikes, striking, strives, striving, struck, structure, struggling, studies, sublime, subscribe, subsequent, subsequently, subsumed, subsumptions, success, successively, suffering, sufficed, suggestion, suggestions, sunset, supplied, surprised, surrender, surrounded, surveys, survive, surviving, suspended, swamp, sweet, synonymous, systematize, tablecloth, tactile, tap, task, tasting, taught, taxes, telegram, temper, temperaments, tempted, tending, tenet, term, texts, texture, theses, thesis, thraldom, throw, throws, thwarting, timeless, tincture, tolerably, tongue, toothache, topics, total, touches, traditional, trains, trammels, transcribe, transcription, transfer, transform, transitory, travels, treated, treating, treatment, triangularity, trifling, trotting, trouble, troubled, troubles, trusted, tuning, type, types, typical, tyranny, unaccustomed, unaffected, unattainable, uncertain, unchanged, unchanging, uncomfortable, uncommon, unconscious, undeniable, undeniably, underlie, underlies, undertake, undiminished, undue, unenforceability, unexpectedly, unexperienced, unimportant, unites, uniting, unlearn, unlink, unplausible, unprotected, unpublished, unreflectingly, unreflective, unsafe, unsolicited, unsolved, unsound, unsuspected, unusual, unwarrantable, unwise, updated, upset, upstairs, urges, usage, vagueness, vaguer, vain, valleys, variable, variations, variety, variously, varying, vast, veil, verification, version, viewing, vindicate, violates, violent, virtuous, virus, voice, voices, void, volume, volunteer, voyage, walk, walks, walled, walls, war, warranties, warrants, waste, wear, wearing, weather, weight, west, window, wise, wonderful, wooden, wore, worst, wrings, writers, yield\n",
      "Minimum Probability: 8e-05\n",
      "\n",
      "3. What observation can you make about the probabilities?\n",
      "The probabilities of non-stop words vary, with some words being less probable than others. Some words may have very low probabilities.\n",
      "\n",
      "4. Which sentence is more likely:\n",
      "a. If a belief is true, it can be deduced it is universal. (Probability: 0.00935 )\n",
      "b. Criticism of knowledge is counter to scientific results. (Probability: 0.02389 )\n"
     ]
    }
   ],
   "source": [
    "# Answer the questions\n",
    "print(\"1. How many unique non-stop words are in the text?\")\n",
    "print(len(unique_non_stopwords))\n",
    "\n",
    "print(\"\\n2. Which is the least probable word? (if there is a tie, please state the tie words)\")\n",
    "print(\"Least Probable Word(s):\", \", \".join(least_probable_words))\n",
    "print(\"Minimum Probability:\", min_probability)\n",
    "\n",
    "print(\"\\n3. What observation can you make about the probabilities?\")\n",
    "print(\"The probabilities of non-stop words vary, with some words being less probable than others. Some words may have very low probabilities.\")\n",
    "\n",
    "print(\"\\n4. Which sentence is more likely:\")\n",
    "print(\"a. If a belief is true, it can be deduced it is universal. (Probability:\", probability_a, \")\")\n",
    "print(\"b. Criticism of knowledge is counter to scientific results. (Probability:\", probability_b, \")\")"
   ]
  },
  {
   "cell_type": "code",
   "execution_count": 13,
   "metadata": {},
   "outputs": [
    {
     "name": "stdout",
     "output_type": "stream",
     "text": [
      "Sentence 'b' is more likely because it has a higher cumulative probability of non-stop words.\n"
     ]
    }
   ],
   "source": [
    "# Numeric rationale for the answer\n",
    "if probability_a > probability_b:\n",
    "    print(\"Sentence 'a' is more likely because it has a higher cumulative probability of non-stop words.\")\n",
    "elif probability_b > probability_a:\n",
    "    print(\"Sentence 'b' is more likely because it has a higher cumulative probability of non-stop words.\")\n",
    "else:\n",
    "    print(\"Both sentences have the same cumulative probability of non-stop words, so they are equally likely.\")\n",
    "\n"
   ]
  }
 ],
 "metadata": {
  "kernelspec": {
   "display_name": "Python 3 (ipykernel)",
   "language": "python",
   "name": "python3"
  },
  "language_info": {
   "codemirror_mode": {
    "name": "ipython",
    "version": 3
   },
   "file_extension": ".py",
   "mimetype": "text/x-python",
   "name": "python",
   "nbconvert_exporter": "python",
   "pygments_lexer": "ipython3",
   "version": "3.11.4"
  },
  "orig_nbformat": 4
 },
 "nbformat": 4,
 "nbformat_minor": 2
}
