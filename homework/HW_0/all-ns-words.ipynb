{
 "cells": [
  {
   "cell_type": "code",
   "execution_count": null,
   "metadata": {},
   "outputs": [],
   "source": [
    "! pip install requests"
   ]
  },
  {
   "cell_type": "code",
   "execution_count": null,
   "metadata": {},
   "outputs": [],
   "source": [
    "import csv\n",
    "from collections import Counter\n",
    "import requests"
   ]
  },
  {
   "cell_type": "code",
   "execution_count": null,
   "metadata": {},
   "outputs": [],
   "source": [
    "# Download the list of stopwords from the URL\n",
    "stopwords_url = \"https://raw.githubusercontent.com/stopwords-iso/stopwords-en/master/stopwords-en.txt\"\n",
    "stopwords_response = requests.get(stopwords_url)\n",
    "\n",
    "# Check if the download was successful\n",
    "if stopwords_response.status_code == 200:\n",
    "    stopwords = set(stopwords_response.text.splitlines())\n",
    "else:\n",
    "    print(\"Error downloading stopwords list. Please check the URL or try again later.\")\n",
    "    exit()\n"
   ]
  },
  {
   "cell_type": "code",
   "execution_count": null,
   "metadata": {},
   "outputs": [],
   "source": [
    "# Read the \"all_words.csv\" file\n",
    "with open('all_words.csv', 'r') as csvfile:\n",
    "    reader = csv.DictReader(csvfile)\n",
    "    word_counts = Counter()\n",
    "\n",
    "    # Filter out stopwords and update word counts\n",
    "    for row in reader:\n",
    "        word = row['Word']\n",
    "        frequency = int(row['Frequency'])\n",
    "        \n",
    "        if word.lower() not in stopwords:  \n",
    "            word_counts[word] += frequency"
   ]
  },
  {
   "cell_type": "code",
   "execution_count": null,
   "metadata": {},
   "outputs": [],
   "source": [
    "# Write the filtered words and their frequencies to \"all_ns_words.csv\"\n",
    "with open('all_ns_words.csv', 'w', newline='') as csvfile:\n",
    "    fieldnames = ['Word', 'Frequency']\n",
    "    writer = csv.DictWriter(csvfile, fieldnames=fieldnames)\n",
    "    writer.writeheader()\n",
    "    \n",
    "    for word, count in word_counts.items():\n",
    "        writer.writerow({'Word': word, 'Frequency': count})\n",
    "\n",
    "print(\"Stopwords have been removed, and the remaining non-stopwords are in 'all_ns_words.csv'.\")"
   ]
  }
 ],
 "metadata": {
  "language_info": {
   "name": "python"
  },
  "orig_nbformat": 4
 },
 "nbformat": 4,
 "nbformat_minor": 2
}
