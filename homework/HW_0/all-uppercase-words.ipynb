{
 "cells": [
  {
   "cell_type": "code",
   "execution_count": 6,
   "metadata": {},
   "outputs": [
    {
     "name": "stdout",
     "output_type": "stream",
     "text": [
      "Defaulting to user installation because normal site-packages is not writeable\n",
      "Requirement already satisfied: nltk in /home/sensei/.local/lib/python3.11/site-packages (3.8.1)\n",
      "Requirement already satisfied: requests in /usr/lib/python3/dist-packages (2.31.0)\n",
      "\u001b[31mERROR: Could not find a version that satisfies the requirement urllib (from versions: none)\u001b[0m\u001b[31m\n",
      "\u001b[0m\u001b[31mERROR: No matching distribution found for urllib\u001b[0m\u001b[31m\n",
      "\u001b[0m"
     ]
    }
   ],
   "source": [
    "! pip install nltk requests"
   ]
  },
  {
   "cell_type": "code",
   "execution_count": 2,
   "metadata": {},
   "outputs": [
    {
     "name": "stderr",
     "output_type": "stream",
     "text": [
      "[nltk_data] Downloading package punkt to /home/sensei/nltk_data...\n",
      "[nltk_data]   Package punkt is already up-to-date!\n"
     ]
    },
    {
     "data": {
      "text/plain": [
       "True"
      ]
     },
     "execution_count": 2,
     "metadata": {},
     "output_type": "execute_result"
    }
   ],
   "source": [
    "# import libraries and download NLTK data\n",
    "import nltk\n",
    "import string\n",
    "import csv\n",
    "from collections import Counter\n",
    "import urllib.request\n",
    "\n",
    "nltk.download('punkt')"
   ]
  },
  {
   "cell_type": "code",
   "execution_count": 3,
   "metadata": {},
   "outputs": [],
   "source": [
    "# tokenize and extract capitalized words\n",
    "def extract_capitalized_words(text):\n",
    "    words = nltk.word_tokenize(text)\n",
    "    capitalized_words = [word.strip(string.punctuation)  for word in words if word.isupper() and word.isalpha() and word]\n",
    "    \n",
    "    return capitalized_words"
   ]
  },
  {
   "cell_type": "code",
   "execution_count": 4,
   "metadata": {},
   "outputs": [],
   "source": [
    "# Read the text file from the URL\n",
    "url = \"https://www.gutenberg.org/cache/epub/5827/pg5827.txt\"\n",
    "response = urllib.request.urlopen(url)\n",
    "text = response.read().decode('utf-8')\n",
    "\n",
    "# Extract capitalized words and clean them\n",
    "capitalized_words = extract_capitalized_words(text)\n",
    "\n",
    "capitalized_words = [word.strip(string.punctuation) for word in capitalized_words]\n",
    "\n",
    "# Count the frequency\n",
    "word_counts = Counter(capitalized_words)\n",
    "\n",
    "# Sort alphabetically\n",
    "sorted_word_counts = sorted(word_counts.items(), key=lambda x: x[0])\n"
   ]
  },
  {
   "cell_type": "code",
   "execution_count": 5,
   "metadata": {},
   "outputs": [
    {
     "name": "stdout",
     "output_type": "stream",
     "text": [
      "Capitalized word frequencies have been written to 'all_uppercase_words.csv' in alphabetical order.\n"
     ]
    }
   ],
   "source": [
    "# Write to CSV file\n",
    "with open('all_uppercase_words.csv', 'w', newline='') as csvfile:\n",
    "    csv_writer = csv.writer(csvfile)\n",
    "    csv_writer.writerow(['Word', 'Frequency'])\n",
    "    \n",
    "    for word, count in sorted_word_counts:\n",
    "        csv_writer.writerow([word, count])\n",
    "\n",
    "print(\"Capitalized word frequencies have been written to 'all_uppercase_words.csv' in alphabetical order.\")\n"
   ]
  }
 ],
 "metadata": {
  "kernelspec": {
   "display_name": "Python 3 (ipykernel)",
   "language": "python",
   "name": "python3"
  },
  "language_info": {
   "codemirror_mode": {
    "name": "ipython",
    "version": 3
   },
   "file_extension": ".py",
   "mimetype": "text/x-python",
   "name": "python",
   "nbconvert_exporter": "python",
   "pygments_lexer": "ipython3",
   "version": "3.11.4"
  },
  "orig_nbformat": 4
 },
 "nbformat": 4,
 "nbformat_minor": 2
}
