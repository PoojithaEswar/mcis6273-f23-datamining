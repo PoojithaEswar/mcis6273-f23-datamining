{
 "cells": [
  {
   "cell_type": "code",
   "execution_count": null,
   "metadata": {},
   "outputs": [],
   "source": [
    "! pip install pandas"
   ]
  },
  {
   "cell_type": "code",
   "execution_count": 28,
   "metadata": {},
   "outputs": [],
   "source": [
    "# imports\n",
    "import zipfile\n",
    "import pandas as pd"
   ]
  },
  {
   "cell_type": "code",
   "execution_count": 29,
   "metadata": {},
   "outputs": [
    {
     "name": "stdout",
     "output_type": "stream",
     "text": [
      "ZIP file has been successfully extracted.\n"
     ]
    }
   ],
   "source": [
    "\n",
    "# unzip\n",
    "\n",
    "zip_file_path = \"Import_Refusal_2014-present.zip\"\n",
    "\n",
    "with zipfile.ZipFile(zip_file_path, 'r') as zip_ref:\n",
    "    zip_ref.extractall()\n",
    "\n",
    "print(\"ZIP file has been successfully extracted.\")\n"
   ]
  },
  {
   "cell_type": "markdown",
   "metadata": {},
   "source": [
    "## Loading and cleaning the dataset"
   ]
  },
  {
   "cell_type": "code",
   "execution_count": 30,
   "metadata": {},
   "outputs": [
    {
     "name": "stdout",
     "output_type": "stream",
     "text": [
      "File read successfully!\n",
      "0    09-Oct-20\n",
      "1    07-Apr-20\n",
      "2    27-Aug-19\n",
      "3    23-Oct-17\n",
      "4    29-Jun-16\n",
      "Name: REFUSAL_DATE, dtype: object\n"
     ]
    }
   ],
   "source": [
    "try:\n",
    "    df = pd.read_csv('REFUSAL_ENTRY_2014-October2023.csv', encoding='ISO-8859-1')\n",
    "    print(\"File read successfully!\")\n",
    "    \n",
    "    print(df['REFUSAL_DATE'].head())\n",
    "\n",
    "    # Convert to datetime format\n",
    "    df['REFUSAL_DATE'] = pd.to_datetime(df['REFUSAL_DATE'], format='%d-%b-%y', errors='coerce')\n",
    "\n",
    "    # Map abbr to month names\n",
    "    df['REFUSAL_DATE'] = df['REFUSAL_DATE'].dt.strftime('%d-%B-%Y')\n",
    "\n",
    "except UnicodeDecodeError as e:\n",
    "    print(\"Error decoding the file. Please check the file encoding.\")\n",
    "    print(e)\n",
    "\n",
    "    with open('REFUSAL_ENTRY_2014-October2023.csv', 'rb') as f:\n",
    "        preview = f.read(1000).decode('ISO-8859-1')\n",
    "\n",
    "    print(\"Preview of the file content:\")\n",
    "    print(preview)"
   ]
  },
  {
   "cell_type": "markdown",
   "metadata": {},
   "source": [
    "## Cleaning month names"
   ]
  },
  {
   "cell_type": "code",
   "execution_count": 31,
   "metadata": {},
   "outputs": [],
   "source": [
    "# mapping of month abbreviations to month names\n",
    "month_mapping = {\n",
    "    'Jan': 'January',\n",
    "    'Feb': 'February',\n",
    "    'Mar': 'March',\n",
    "    'Apr': 'April',\n",
    "    'May': 'May',\n",
    "    'Jun': 'June',\n",
    "    'Jul': 'July',\n",
    "    'Aug': 'August',\n",
    "    'Sep': 'September',\n",
    "    'Oct': 'October',\n",
    "    'Nov': 'November',\n",
    "    'Dec': 'December'\n",
    "}\n",
    "\n",
    "# Convert to required format and map\n",
    "df['REFUSAL_DATE'] = pd.to_datetime(df['REFUSAL_DATE'], format='%d-%B-%Y', errors='coerce')\n",
    "\n",
    "df['REFUSAL_DATE'] = df['REFUSAL_DATE'].dt.strftime('%d-%B-%Y')"
   ]
  },
  {
   "cell_type": "markdown",
   "metadata": {},
   "source": [
    "## Task 1: Read the CSV file and create country_violations_2014-2023.csv"
   ]
  },
  {
   "cell_type": "code",
   "execution_count": 20,
   "metadata": {},
   "outputs": [],
   "source": [
    "\n",
    "country_violations = df.groupby(['ISO_CNTRY_CODE', 'PROVINCE_STATE', 'CITY_NAME']).count().loc[:, ['ENTRY_NUM']]\n",
    "country_violations.columns = ['VIOLATION_COUNT']\n",
    "\n",
    "country_violations.to_csv('country_violations_2014-2023.csv')"
   ]
  },
  {
   "cell_type": "markdown",
   "metadata": {},
   "source": [
    "## Task 2: Create country_violations_year_month_2014-2023.csv"
   ]
  },
  {
   "cell_type": "code",
   "execution_count": 32,
   "metadata": {},
   "outputs": [],
   "source": [
    "\n",
    "# Extract and Group columns\n",
    "df['YEAR'] = pd.to_datetime(df['REFUSAL_DATE'], format='%d-%B-%Y', errors='coerce').dt.year\n",
    "df['MONTH'] = pd.to_datetime(df['REFUSAL_DATE'], format='%d-%B-%Y', errors='coerce').dt.strftime('%B')\n",
    "\n",
    "country_violations_year_month = df.groupby(['YEAR', 'MONTH', 'ISO_CNTRY_CODE', 'PROVINCE_STATE', 'CITY_NAME']).count().loc[:, ['ENTRY_NUM']]\n",
    "country_violations_year_month.columns = ['VIOLATION_COUNT']\n",
    "\n",
    "country_violations_year_month.to_csv('country_violations_year_month_2014-2023.csv')"
   ]
  },
  {
   "cell_type": "markdown",
   "metadata": {},
   "source": [
    "## Task 3: Find the city, country, province with the most violations in a single month"
   ]
  },
  {
   "cell_type": "code",
   "execution_count": 34,
   "metadata": {},
   "outputs": [
    {
     "name": "stdout",
     "output_type": "stream",
     "text": [
      "VIOLATION_COUNT    613\n",
      "Name: (2022, April, MX, Ciudad de Mexico, Ciudad De Mexico), dtype: int64\n",
      "The city, country, and province with the most violations in a single month: Ciudad De Mexico, MX, Ciudad de Mexico\n",
      "Month and year: April/2022, Violations count: 613\n"
     ]
    }
   ],
   "source": [
    "# Find row with the maximum violation count\n",
    "max_violation_row = country_violations_year_month.loc[country_violations_year_month['VIOLATION_COUNT'].idxmax()]\n",
    "\n",
    "print(max_violation_row)\n",
    "\n",
    "# Extract information directly from the index\n",
    "most_violated_city = max_violation_row.name[4]\n",
    "most_violated_country = max_violation_row.name[2]\n",
    "most_violated_province = max_violation_row.name[3]\n",
    "violations_count = max_violation_row['VIOLATION_COUNT']\n",
    "year = max_violation_row.name[0]\n",
    "month = max_violation_row.name[1]\n",
    "\n",
    "# Display the result\n",
    "print(f\"The city, country, and province with the most violations in a single month: {most_violated_city}, {most_violated_country}, {most_violated_province}\")\n",
    "print(f\"Month and year: {month}/{year}, Violations count: {violations_count}\")"
   ]
  },
  {
   "cell_type": "markdown",
   "metadata": {},
   "source": [
    "## Task 4: Find the 10 most frequent products in the IRR for 2018"
   ]
  },
  {
   "cell_type": "code",
   "execution_count": 35,
   "metadata": {},
   "outputs": [
    {
     "name": "stdout",
     "output_type": "stream",
     "text": [
      "The 10 most frequent products in the IRR for 2018:\n",
      "PRDCT_CODE_DESC_TEXT\n",
      "SUNGLASSES (NON-PRESCRIPTION INCLUDING PHOTOSENSITIVE)                                               575\n",
      "MISCELLANEOUS PATENT MEDICINES, ETC.                                                                 433\n",
      "VITAMIN, MINERAL, PROTEINS AND UNCONVENTIONAL DIETARY SPECIALITIES FOR HUMANS AND ANIMALS, N.E.C.    298\n",
      "TUNA (ALBACORE, YELLOWFIN, BLUEFIN, SKIPJACK, ETC.)                                                  244\n",
      "HERBALS & BOTANICALS (NOT TEAS), N.E.C.                                                              237\n",
      "MAHI MAHI                                                                                            190\n",
      "ULTRAVIOLET SCREEN/SUNSCREEN N.E.C.                                                                  183\n",
      "GLOVE, PATIENT EXAMINATION, POLY                                                                     173\n",
      "BATH SOAPS AND DETERGENTS (NOT ANTIPERSPIRANT) (PERSONAL CLEANLINESS)                                172\n",
      "LENSES, SOFT CONTACT, DAILY WEAR                                                                     154\n",
      "Name: count, dtype: int64\n"
     ]
    }
   ],
   "source": [
    "# Filter data for the year 2018\n",
    "df_2018 = df[df['YEAR'] == 2018]\n",
    "\n",
    "# ascertain the column exists and perform logic\n",
    "if 'PRDCT_CODE_DESC_TEXT' in df_2018.columns:\n",
    "    top_products_2018 = df_2018['PRDCT_CODE_DESC_TEXT'].value_counts().head(10)\n",
    "\n",
    "    # Display the result\n",
    "    print(\"The 10 most frequent products in the IRR for 2018:\")\n",
    "    print(top_products_2018)\n",
    "else:\n",
    "    print(\"Column 'PRDCT_CODE_DESC_TEXT' not found in the DataFrame 'df_2018'.\")\n"
   ]
  },
  {
   "cell_type": "markdown",
   "metadata": {},
   "source": [
    "## Task 5: Find the company associated with the largest violation in a single month"
   ]
  },
  {
   "cell_type": "code",
   "execution_count": null,
   "metadata": {},
   "outputs": [],
   "source": [
    "# # Find the row with the maximum violation count in a single month\n",
    "# max_violation_row_monthly_index = country_violations_year_month.groupby(['YEAR', 'MONTH'])['VIOLATION_COUNT'].idxmax()\n",
    "# max_violation_row_monthly = country_violations_year_month.loc[max_violation_row_monthly_index]\n",
    "\n",
    "# # Extract the corresponding indices for the largest violation\n",
    "# indices = [index for index_tuple in max_violation_row_monthly_index for index in index_tuple]\n",
    "# largest_violation_entry_num = df.loc[indices, 'ENTRY_NUM'].values[0]\n",
    "\n",
    "# # Find the company associated with the largest violation\n",
    "# # Flatten the MultiIndex and use it in loc\n",
    "# largest_violation_entry_num_index = tuple(indices)\n",
    "# largest_violation_entry_num = df.loc[largest_violation_entry_num_index, 'ENTRY_NUM'].values[0]\n",
    "\n",
    "# # Find the company associated with the largest violation\n",
    "# largest_violation_company = df.loc[df['ENTRY_NUM'] == largest_violation_entry_num, 'LGL_NAME'].values[0]\n",
    "\n",
    "# print(f\"The company associated with the largest violation in a single month: {largest_violation_company}\")"
   ]
  }
 ],
 "metadata": {
  "kernelspec": {
   "display_name": "Python 3 (ipykernel)",
   "language": "python",
   "name": "python3"
  },
  "language_info": {
   "codemirror_mode": {
    "name": "ipython",
    "version": 3
   },
   "file_extension": ".py",
   "mimetype": "text/x-python",
   "name": "python",
   "nbconvert_exporter": "python",
   "pygments_lexer": "ipython3",
   "version": "3.11.6"
  }
 },
 "nbformat": 4,
 "nbformat_minor": 2
}
